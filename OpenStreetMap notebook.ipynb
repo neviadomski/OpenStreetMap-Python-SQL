{
 "cells": [
  {
   "cell_type": "markdown",
   "metadata": {
    "collapsed": true
   },
   "source": [
    "# OpenStreet Data Wrangling with Python and SQL\n",
    "### by Sergei Neviadomski"
   ]
  },
  {
   "cell_type": "markdown",
   "metadata": {},
   "source": [
    "## Project Summary\n",
    "### Map area: Pittsburgh, PA, United States\n",
    "\n",
    "https://mapzen.com/data/metro-extracts/metro/pittsburgh_pennsylvania/\n",
    "\n",
    "This map is of place where I currently live. I'd like to explore open-source map of this area, reveal some inconsistencies in data and contribute to its improvement on OpenStreetMap.org"
   ]
  },
  {
   "cell_type": "markdown",
   "metadata": {
    "collapsed": false
   },
   "source": [
    "## Data auditing and processing"
   ]
  },
  {
   "cell_type": "markdown",
   "metadata": {},
   "source": [
    "After downloading and auditing Pittsburgh area dataset I noticed some inconsistencies in representing data:\n",
    " \n",
    "1) Street names was inconsistent.   \n",
    "Abbreviations St -> Street  \n",
    "Dots at the end St. -> Street  \n",
    "Lowercase street -> Street  \n",
    "\n",
    "2) Zip codes had different formats.  \n",
    "5-4 digit format 15220-4152 -> 15220  \n",
    "State abbreviation in zip code PA15220 -> 15220  \n",
    "\n",
    "3) Phone numbers had different formats.  \n",
    "+4129999999 -> 1-412-999-9999  \n",
    "1412-999-9999 -> 1-412-999-9999  \n",
    "(412)999-9999 -> 1-412-999-9999  "
   ]
  },
  {
   "cell_type": "markdown",
   "metadata": {},
   "source": [
    "First of all I changed all abbreviations to full representation of street types. \n",
    "    \n",
    "Then I brought all zip codes to single 5 digit format by extracting 5 digit sequence from initial value.\n",
    "\n",
    "And finally I changed phone representations to +1-412-999-9999 format. I standardized the phone number formatting by first removing all spaces, hyphens and parenthesis. Then I appended +1 as country code and separated phone blocks with hyphens.\n",
    "You can take a look at code in OsmData.py file."
   ]
  },
  {
   "cell_type": "markdown",
   "metadata": {},
   "source": [
    "## Preparing for SQL database"
   ]
  },
  {
   "cell_type": "markdown",
   "metadata": {},
   "source": [
    "After auditing is complete the next step is to prepare the data to be inserted into a SQL database. To do so I parsed all elements in the OSM XML file, transforming them from document format to tabular format, thus making it possible to write to .csv files. These csv files can then easily be imported to a SQL database as tables."
   ]
  },
  {
   "cell_type": "markdown",
   "metadata": {},
   "source": [
    "Finally I built SQL database and import tables to this database from csv file from previous step. I used sqlite3 shell for this purpose. "
   ]
  },
  {
   "cell_type": "markdown",
   "metadata": {},
   "source": [
    "## Quering SQL database"
   ]
  },
  {
   "cell_type": "markdown",
   "metadata": {},
   "source": [
    "Here, I present some basic statistics about the data.\n",
    "\n",
    "Original Data file Size: 407 MB.\n",
    "\n",
    "SQLite DB file size: 227 MB\n",
    "\n",
    "For quering database I'll use not sqlite3 shell, but sqlite3 Puthon API. \n",
    "\n",
    "1) Number of nodes\n",
    "\n",
    "2) Number of ways"
   ]
  },
  {
   "cell_type": "code",
   "execution_count": 9,
   "metadata": {
    "collapsed": false
   },
   "outputs": [
    {
     "name": "stdout",
     "output_type": "stream",
     "text": [
      "There are 47792 nodes in database.\n",
      "There are 4887 ways in database.\n"
     ]
    }
   ],
   "source": [
    "# Importing SQLite3 API\n",
    "import sqlite3\n",
    "\n",
    "#Esteblishing connection and cursor\n",
    "conn = sqlite3.connect(\"osm.db\")\n",
    "cursor = conn.cursor()\n",
    "\n",
    "#Executing and printing \n",
    "cursor.execute(\"select count(id) from nodes;\")\n",
    "print 'There are {} nodes in database.'.format(cursor.fetchall()[0][0])\n",
    "cursor.execute(\"select count(id) from ways;\")\n",
    "print 'There are {} ways in database.'.format(cursor.fetchall()[0][0])"
   ]
  },
  {
   "cell_type": "markdown",
   "metadata": {},
   "source": [
    "3) Number of unique users"
   ]
  },
  {
   "cell_type": "code",
   "execution_count": 10,
   "metadata": {
    "collapsed": false
   },
   "outputs": [
    {
     "name": "stdout",
     "output_type": "stream",
     "text": [
      "There are 662 uniqe users in database.\n"
     ]
    }
   ],
   "source": [
    "cursor.execute(\"select count(distinct(uid)) from (select uid from nodes union select uid from ways);\")\n",
    "print 'There are {} uniqe users in database.'.format(cursor.fetchall()[0][0])"
   ]
  },
  {
   "cell_type": "markdown",
   "metadata": {
    "collapsed": true
   },
   "source": [
    "4) Way with the biggest nodes count"
   ]
  },
  {
   "cell_type": "code",
   "execution_count": 11,
   "metadata": {
    "collapsed": false
   },
   "outputs": [
    {
     "name": "stdout",
     "output_type": "stream",
     "text": [
      "There're 382 nodes in the biggest way in database. Way id is 384745032.\n",
      "This way is:\n",
      "[]\n"
     ]
    }
   ],
   "source": [
    "cursor.execute(\"select id, count(*) as nodes_count from ways_nodes group by id order by nodes_count desc limit 1;\")\n",
    "way_id, count = cursor.fetchall()[0]\n",
    "print \"There're {} nodes in the biggest way in database. Way id is {}.\".format(count, way_id)\n",
    "cursor.execute(\"select * from ways_tags where id = {};\".format(way_id))\n",
    "print 'This way is:'\n",
    "pprint.pprint(cursor.fetchall())"
   ]
  },
  {
   "cell_type": "markdown",
   "metadata": {
    "collapsed": false,
    "scrolled": true
   },
   "source": [
    "5) Number of bridges in Pittsburgh"
   ]
  },
  {
   "cell_type": "code",
   "execution_count": 8,
   "metadata": {
    "collapsed": false
   },
   "outputs": [
    {
     "name": "stdout",
     "output_type": "stream",
     "text": [
      "There are 410 bridges in Pitt. That's a second Venice.\n"
     ]
    }
   ],
   "source": [
    "cursor.execute(\"select count(key) from ways_tags where key = 'bridge' and value != 'yes' group by key;\")\n",
    "print \"There are {} bridges in Pitt. That's a second Venice.\".format(cursor.fetchall()[0][0])"
   ]
  },
  {
   "cell_type": "markdown",
   "metadata": {},
   "source": [
    "6) Top 5 zip codes in Pittsburgh"
   ]
  },
  {
   "cell_type": "code",
   "execution_count": 9,
   "metadata": {
    "collapsed": false
   },
   "outputs": [
    {
     "name": "stdout",
     "output_type": "stream",
     "text": [
      "[(u'15206', 6653),\n",
      " (u'15044', 5333),\n",
      " (u'15025', 4950),\n",
      " (u'15216', 4853),\n",
      " (u'15017', 3454)]\n"
     ]
    }
   ],
   "source": [
    "cursor.execute(\"select value, count(*) as count from nodes_tags where key = 'postcode' group by value order by count desc limit 5;\")\n",
    "pprint.pprint(cursor.fetchall())"
   ]
  },
  {
   "cell_type": "markdown",
   "metadata": {},
   "source": [
    "## Conclusion"
   ]
  },
  {
   "cell_type": "markdown",
   "metadata": {},
   "source": [
    "During my analysis I've seen large amount of data that has not been correctly formatted and cleaned. But I successfully parsed this data and corrected streets, zip codes and phones formatting. The bigger issue is that osm data has a lot of inconsistencies. Sometimes it's difficult even to find this inconsistencies. There is a lot of work to be done to complete this map. \n",
    "\n",
    "OpenStreetMap data is not perfect as any human modified project. It'll take a lot of time to find and clean all human-made errors. But we've made our first step. We modified street names and made them more consistent and uniform. Then we transformed XML to CSV format and imported it into SQL database. And finally we answered some interesting questions using SQL queries. "
   ]
  },
  {
   "cell_type": "markdown",
   "metadata": {},
   "source": [
    "Additional ideas:  \n",
    "In my opinion there's two way to improve OpenStreenData project.  \n",
    "First of all it's extremely important to attract more people to improving maps. My suggestion would be the use of gamification. It's reasonable to establish ranking system like on Kaggle or badge system like on Khan academy.  \n",
    "Benefits of this:\n",
    " * increase in productivity\n",
    " * help to retain high performers by involving them into moderation\n",
    "  \n",
    "Antisipated problems:\n",
    " * have very small effect on results\n",
    " * creates competition that can be counterproductive\n",
    " \n",
    "Second is to use of different sources to cross-validate inconsistencies and empty spots on OSD maps."
   ]
  }
 ],
 "metadata": {
  "anaconda-cloud": {},
  "kernelspec": {
   "display_name": "Python [default]",
   "language": "python",
   "name": "python2"
  },
  "language_info": {
   "codemirror_mode": {
    "name": "ipython",
    "version": 2
   },
   "file_extension": ".py",
   "mimetype": "text/x-python",
   "name": "python",
   "nbconvert_exporter": "python",
   "pygments_lexer": "ipython2",
   "version": "2.7.12"
  }
 },
 "nbformat": 4,
 "nbformat_minor": 0
}
